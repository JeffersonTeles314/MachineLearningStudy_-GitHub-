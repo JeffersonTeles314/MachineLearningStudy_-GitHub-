{
 "cells": [
  {
   "cell_type": "code",
   "execution_count": 15,
   "metadata": {},
   "outputs": [
    {
     "data": {
      "text/plain": [
       "0                    José Gleyson Andrade Maia\n",
       "1                      Ylanna Souza dos Santos\n",
       "2                       Robison Luiz Fernandes\n",
       "3      Kennedy Luis de Souza Marinho Fontinele\n",
       "4                                          NaN\n",
       "                        ...                   \n",
       "620                          Osman Mamed Filho\n",
       "621                   Dandara Ferreira de Lima\n",
       "622                Tony Arnison Vieira e Silva\n",
       "623                          Osman Mamed Filho\n",
       "624                  José Gleyson Andrade Maia\n",
       "Name: Usuário Resolvedor, Length: 625, dtype: object"
      ]
     },
     "execution_count": 15,
     "metadata": {},
     "output_type": "execute_result"
    }
   ],
   "source": [
    "import pandas as pd\n",
    "import re\n",
    "import numpy as np\n",
    "df_final = pd.DataFrame()\n",
    "# Tente abrir o arquivo com a codificação 'latin1'\n",
    "df = pd.read_csv('Resultado_Pesquisa_13112024_1315.csv', encoding='latin1', sep=';')\n",
    "df['Usuário Resolvedor']\n"
   ]
  },
  {
   "cell_type": "markdown",
   "metadata": {},
   "source": [
    "## Codigo chamado"
   ]
  },
  {
   "cell_type": "code",
   "execution_count": 16,
   "metadata": {},
   "outputs": [
    {
     "data": {
      "text/html": [
       "<div>\n",
       "<style scoped>\n",
       "    .dataframe tbody tr th:only-of-type {\n",
       "        vertical-align: middle;\n",
       "    }\n",
       "\n",
       "    .dataframe tbody tr th {\n",
       "        vertical-align: top;\n",
       "    }\n",
       "\n",
       "    .dataframe thead th {\n",
       "        text-align: right;\n",
       "    }\n",
       "</style>\n",
       "<table border=\"1\" class=\"dataframe\">\n",
       "  <thead>\n",
       "    <tr style=\"text-align: right;\">\n",
       "      <th></th>\n",
       "      <th>cod_chamado</th>\n",
       "    </tr>\n",
       "  </thead>\n",
       "  <tbody>\n",
       "    <tr>\n",
       "      <th>0</th>\n",
       "      <td>3644682.0</td>\n",
       "    </tr>\n",
       "    <tr>\n",
       "      <th>1</th>\n",
       "      <td>2283692.0</td>\n",
       "    </tr>\n",
       "    <tr>\n",
       "      <th>2</th>\n",
       "      <td>3730390.0</td>\n",
       "    </tr>\n",
       "    <tr>\n",
       "      <th>3</th>\n",
       "      <td>3801653.0</td>\n",
       "    </tr>\n",
       "    <tr>\n",
       "      <th>4</th>\n",
       "      <td>NaN</td>\n",
       "    </tr>\n",
       "    <tr>\n",
       "      <th>...</th>\n",
       "      <td>...</td>\n",
       "    </tr>\n",
       "    <tr>\n",
       "      <th>620</th>\n",
       "      <td>4460029.0</td>\n",
       "    </tr>\n",
       "    <tr>\n",
       "      <th>621</th>\n",
       "      <td>4478661.0</td>\n",
       "    </tr>\n",
       "    <tr>\n",
       "      <th>622</th>\n",
       "      <td>4325078.0</td>\n",
       "    </tr>\n",
       "    <tr>\n",
       "      <th>623</th>\n",
       "      <td>4324843.0</td>\n",
       "    </tr>\n",
       "    <tr>\n",
       "      <th>624</th>\n",
       "      <td>4053869.0</td>\n",
       "    </tr>\n",
       "  </tbody>\n",
       "</table>\n",
       "<p>625 rows × 1 columns</p>\n",
       "</div>"
      ],
      "text/plain": [
       "     cod_chamado\n",
       "0      3644682.0\n",
       "1      2283692.0\n",
       "2      3730390.0\n",
       "3      3801653.0\n",
       "4            NaN\n",
       "..           ...\n",
       "620    4460029.0\n",
       "621    4478661.0\n",
       "622    4325078.0\n",
       "623    4324843.0\n",
       "624    4053869.0\n",
       "\n",
       "[625 rows x 1 columns]"
      ]
     },
     "execution_count": 16,
     "metadata": {},
     "output_type": "execute_result"
    }
   ],
   "source": [
    "df_final['cod_chamado']= df[' Código Chamado'].fillna(df['Código do Chamado'])\n",
    "df_final"
   ]
  },
  {
   "cell_type": "markdown",
   "metadata": {},
   "source": [
    "## Data"
   ]
  },
  {
   "cell_type": "code",
   "execution_count": 17,
   "metadata": {},
   "outputs": [
    {
     "data": {
      "text/html": [
       "<div>\n",
       "<style scoped>\n",
       "    .dataframe tbody tr th:only-of-type {\n",
       "        vertical-align: middle;\n",
       "    }\n",
       "\n",
       "    .dataframe tbody tr th {\n",
       "        vertical-align: top;\n",
       "    }\n",
       "\n",
       "    .dataframe thead th {\n",
       "        text-align: right;\n",
       "    }\n",
       "</style>\n",
       "<table border=\"1\" class=\"dataframe\">\n",
       "  <thead>\n",
       "    <tr style=\"text-align: right;\">\n",
       "      <th></th>\n",
       "      <th>cod_chamado</th>\n",
       "      <th>data_completa</th>\n",
       "      <th>data_avaliacao</th>\n",
       "      <th>hora_avaliacao</th>\n",
       "    </tr>\n",
       "  </thead>\n",
       "  <tbody>\n",
       "    <tr>\n",
       "      <th>0</th>\n",
       "      <td>3644682.0</td>\n",
       "      <td>01/07/2024 10:18:34</td>\n",
       "      <td>01/07/2024</td>\n",
       "      <td>10:18</td>\n",
       "    </tr>\n",
       "    <tr>\n",
       "      <th>1</th>\n",
       "      <td>2283692.0</td>\n",
       "      <td>01/07/2024 10:38:03</td>\n",
       "      <td>01/07/2024</td>\n",
       "      <td>10:38</td>\n",
       "    </tr>\n",
       "    <tr>\n",
       "      <th>2</th>\n",
       "      <td>3730390.0</td>\n",
       "      <td>01/07/2024 10:47:11</td>\n",
       "      <td>01/07/2024</td>\n",
       "      <td>10:47</td>\n",
       "    </tr>\n",
       "    <tr>\n",
       "      <th>3</th>\n",
       "      <td>3801653.0</td>\n",
       "      <td>01/07/2024 11:39:47</td>\n",
       "      <td>01/07/2024</td>\n",
       "      <td>11:39</td>\n",
       "    </tr>\n",
       "    <tr>\n",
       "      <th>4</th>\n",
       "      <td>NaN</td>\n",
       "      <td>01/07/2024 11:39:48</td>\n",
       "      <td>01/07/2024</td>\n",
       "      <td>11:39</td>\n",
       "    </tr>\n",
       "    <tr>\n",
       "      <th>...</th>\n",
       "      <td>...</td>\n",
       "      <td>...</td>\n",
       "      <td>...</td>\n",
       "      <td>...</td>\n",
       "    </tr>\n",
       "    <tr>\n",
       "      <th>620</th>\n",
       "      <td>4460029.0</td>\n",
       "      <td>30/09/2024 10:17:22</td>\n",
       "      <td>30/09/2024</td>\n",
       "      <td>10:17</td>\n",
       "    </tr>\n",
       "    <tr>\n",
       "      <th>621</th>\n",
       "      <td>4478661.0</td>\n",
       "      <td>30/09/2024 12:50:34</td>\n",
       "      <td>30/09/2024</td>\n",
       "      <td>12:50</td>\n",
       "    </tr>\n",
       "    <tr>\n",
       "      <th>622</th>\n",
       "      <td>4325078.0</td>\n",
       "      <td>30/09/2024 12:53:58</td>\n",
       "      <td>30/09/2024</td>\n",
       "      <td>12:53</td>\n",
       "    </tr>\n",
       "    <tr>\n",
       "      <th>623</th>\n",
       "      <td>4324843.0</td>\n",
       "      <td>30/09/2024 12:58:24</td>\n",
       "      <td>30/09/2024</td>\n",
       "      <td>12:58</td>\n",
       "    </tr>\n",
       "    <tr>\n",
       "      <th>624</th>\n",
       "      <td>4053869.0</td>\n",
       "      <td>31/07/2024 10:15:58</td>\n",
       "      <td>31/07/2024</td>\n",
       "      <td>10:15</td>\n",
       "    </tr>\n",
       "  </tbody>\n",
       "</table>\n",
       "<p>625 rows × 4 columns</p>\n",
       "</div>"
      ],
      "text/plain": [
       "     cod_chamado        data_completa data_avaliacao hora_avaliacao\n",
       "0      3644682.0  01/07/2024 10:18:34     01/07/2024          10:18\n",
       "1      2283692.0  01/07/2024 10:38:03     01/07/2024          10:38\n",
       "2      3730390.0  01/07/2024 10:47:11     01/07/2024          10:47\n",
       "3      3801653.0  01/07/2024 11:39:47     01/07/2024          11:39\n",
       "4            NaN  01/07/2024 11:39:48     01/07/2024          11:39\n",
       "..           ...                  ...            ...            ...\n",
       "620    4460029.0  30/09/2024 10:17:22     30/09/2024          10:17\n",
       "621    4478661.0  30/09/2024 12:50:34     30/09/2024          12:50\n",
       "622    4325078.0  30/09/2024 12:53:58     30/09/2024          12:53\n",
       "623    4324843.0  30/09/2024 12:58:24     30/09/2024          12:58\n",
       "624    4053869.0  31/07/2024 10:15:58     31/07/2024          10:15\n",
       "\n",
       "[625 rows x 4 columns]"
      ]
     },
     "execution_count": 17,
     "metadata": {},
     "output_type": "execute_result"
    }
   ],
   "source": [
    "df_final['data_completa'] = pd.to_datetime(df['DATA'], format='%d/%m/%Y %H:%M:%S')\n",
    "df_final['data_avaliacao'] = df_final['data_completa'].dt.strftime('%d/%m/%Y')\n",
    "df_final['hora_avaliacao'] = df_final['data_completa'].dt.strftime('%H:%M')\n",
    "df_final['data_completa'] = df_final['data_completa'].dt.strftime('%d/%m/%Y %H:%M:%S')\n",
    "df_final\n",
    "\n"
   ]
  },
  {
   "cell_type": "markdown",
   "metadata": {},
   "source": [
    "## Demandante"
   ]
  },
  {
   "cell_type": "code",
   "execution_count": 18,
   "metadata": {},
   "outputs": [
    {
     "data": {
      "text/html": [
       "<div>\n",
       "<style scoped>\n",
       "    .dataframe tbody tr th:only-of-type {\n",
       "        vertical-align: middle;\n",
       "    }\n",
       "\n",
       "    .dataframe tbody tr th {\n",
       "        vertical-align: top;\n",
       "    }\n",
       "\n",
       "    .dataframe thead th {\n",
       "        text-align: right;\n",
       "    }\n",
       "</style>\n",
       "<table border=\"1\" class=\"dataframe\">\n",
       "  <thead>\n",
       "    <tr style=\"text-align: right;\">\n",
       "      <th></th>\n",
       "      <th>orgao_demandante</th>\n",
       "      <th>usuario_demandante</th>\n",
       "    </tr>\n",
       "  </thead>\n",
       "  <tbody>\n",
       "    <tr>\n",
       "      <th>0</th>\n",
       "      <td>tjac</td>\n",
       "      <td>raimundo.sales</td>\n",
       "    </tr>\n",
       "    <tr>\n",
       "      <th>1</th>\n",
       "      <td>tjac</td>\n",
       "      <td>alfredo.andrade</td>\n",
       "    </tr>\n",
       "    <tr>\n",
       "      <th>2</th>\n",
       "      <td>tjac</td>\n",
       "      <td>osman.filho</td>\n",
       "    </tr>\n",
       "    <tr>\n",
       "      <th>3</th>\n",
       "      <td>uol</td>\n",
       "      <td>rlopesramos</td>\n",
       "    </tr>\n",
       "    <tr>\n",
       "      <th>4</th>\n",
       "      <td>uol</td>\n",
       "      <td>rlopesramos</td>\n",
       "    </tr>\n",
       "    <tr>\n",
       "      <th>...</th>\n",
       "      <td>...</td>\n",
       "      <td>...</td>\n",
       "    </tr>\n",
       "    <tr>\n",
       "      <th>620</th>\n",
       "      <td>tjac</td>\n",
       "      <td>maicon.araujo</td>\n",
       "    </tr>\n",
       "    <tr>\n",
       "      <th>621</th>\n",
       "      <td>tjac</td>\n",
       "      <td>afonso.araujo</td>\n",
       "    </tr>\n",
       "    <tr>\n",
       "      <th>622</th>\n",
       "      <td>tjac</td>\n",
       "      <td>afonso.araujo</td>\n",
       "    </tr>\n",
       "    <tr>\n",
       "      <th>623</th>\n",
       "      <td>tjac</td>\n",
       "      <td>afonso.araujo</td>\n",
       "    </tr>\n",
       "    <tr>\n",
       "      <th>624</th>\n",
       "      <td>tjac</td>\n",
       "      <td>william.abud</td>\n",
       "    </tr>\n",
       "  </tbody>\n",
       "</table>\n",
       "<p>625 rows × 2 columns</p>\n",
       "</div>"
      ],
      "text/plain": [
       "    orgao_demandante usuario_demandante\n",
       "0               tjac     raimundo.sales\n",
       "1               tjac    alfredo.andrade\n",
       "2               tjac        osman.filho\n",
       "3                uol        rlopesramos\n",
       "4                uol        rlopesramos\n",
       "..               ...                ...\n",
       "620             tjac      maicon.araujo\n",
       "621             tjac      afonso.araujo\n",
       "622             tjac      afonso.araujo\n",
       "623             tjac      afonso.araujo\n",
       "624             tjac       william.abud\n",
       "\n",
       "[625 rows x 2 columns]"
      ]
     },
     "execution_count": 18,
     "metadata": {},
     "output_type": "execute_result"
    }
   ],
   "source": [
    "df_final['orgao_demandante'] = df['USUÁRIO'].str.extract(r'@([^.]+)')\n",
    "df_final['usuario_demandante'] = df['USUÁRIO'].str.extract(r'([^@]+)')\n",
    "df_final.loc[:,'orgao_demandante':'usuario_demandante']"
   ]
  },
  {
   "cell_type": "markdown",
   "metadata": {},
   "source": [
    "## Avaliações"
   ]
  },
  {
   "cell_type": "code",
   "execution_count": 19,
   "metadata": {},
   "outputs": [],
   "source": [
    "df_final['avaliacao_conhecimento_atendente'] = df['2. Como você avalia o conhecimento do técnico?']\n",
    "df_final['avaliacao_profissionalismo_atendente'] = df['3. Como você avalia o profissionalismo do técnico?']\n",
    "df_final['avaliacao_tempoSolucaoChamado'] = df['4. Como você avalia o tempo de atendimento e solução do problema?']\n",
    "df_final['sugestao_melhoria'] = df['5. Sugestão para melhoria no atendimento?']\n",
    "\n"
   ]
  },
  {
   "cell_type": "markdown",
   "metadata": {},
   "source": [
    "## Detalhes chamados"
   ]
  },
  {
   "cell_type": "code",
   "execution_count": 20,
   "metadata": {},
   "outputs": [],
   "source": [
    "df_final['categoria_chamado'] = df['Categoria']"
   ]
  },
  {
   "cell_type": "code",
   "execution_count": 21,
   "metadata": {},
   "outputs": [],
   "source": [
    "df_final['gerencia_atendente'] = df['Categoria'].apply(lambda x: 'GESIS' if pd.notna(x) and 'GESIS' in x else ('GESER' if pd.notna(x) else x))"
   ]
  },
  {
   "cell_type": "code",
   "execution_count": 22,
   "metadata": {},
   "outputs": [],
   "source": [
    "df_final['equipe_atendente'] = df['Grupo Resolvedor']\n",
    "df_final['tecnico_atendente'] =df['Usuário Resolvedor']"
   ]
  },
  {
   "cell_type": "code",
   "execution_count": null,
   "metadata": {},
   "outputs": [],
   "source": []
  },
  {
   "cell_type": "markdown",
   "metadata": {},
   "source": [
    "## Exportação"
   ]
  },
  {
   "cell_type": "code",
   "execution_count": 23,
   "metadata": {},
   "outputs": [],
   "source": [
    "df_final.to_excel('aloo.xlsx', index=False)"
   ]
  }
 ],
 "metadata": {
  "kernelspec": {
   "display_name": "venv",
   "language": "python",
   "name": "python3"
  },
  "language_info": {
   "codemirror_mode": {
    "name": "ipython",
    "version": 3
   },
   "file_extension": ".py",
   "mimetype": "text/x-python",
   "name": "python",
   "nbconvert_exporter": "python",
   "pygments_lexer": "ipython3",
   "version": "3.10.0"
  }
 },
 "nbformat": 4,
 "nbformat_minor": 2
}
